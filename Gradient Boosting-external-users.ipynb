{
 "cells": [
  {
   "cell_type": "code",
   "execution_count": 1,
   "metadata": {
    "collapsed": true
   },
   "outputs": [],
   "source": [
    "import warnings\n",
    "warnings.filterwarnings('always')\n",
    "warnings.filterwarnings('ignore')"
   ]
  },
  {
   "cell_type": "code",
   "execution_count": 2,
   "metadata": {
    "collapsed": true
   },
   "outputs": [],
   "source": [
    "import numpy as np\n",
    "import pandas as pd\n",
    "from sklearn.preprocessing import StandardScaler\n",
    "from sklearn.model_selection import train_test_split\n",
    "\n",
    "from sklearn.ensemble import GradientBoostingClassifier\n",
    "from sklearn.metrics import accuracy_score, confusion_matrix, classification_report\n",
    "\n",
    "\n",
    "import matplotlib.pyplot as plt\n",
    "%matplotlib inline"
   ]
  },
  {
   "cell_type": "code",
   "execution_count": 3,
   "metadata": {},
   "outputs": [
    {
     "data": {
      "text/plain": [
       "(120, 23)"
      ]
     },
     "execution_count": 3,
     "metadata": {},
     "output_type": "execute_result"
    }
   ],
   "source": [
    "df_all = pd.read_csv(\"data/first data.csv\")\n",
    "df_all.shape"
   ]
  },
  {
   "cell_type": "code",
   "execution_count": 4,
   "metadata": {
    "collapsed": true
   },
   "outputs": [],
   "source": [
    "df = df_all.drop('Questionnaire Number',axis=1)\n",
    "df.drop('human-resources-actor',axis=1, inplace=True)\n",
    "df.drop('technology-actor',axis=1, inplace=True)\n",
    "df.drop('regulation-actor',axis=1, inplace=True)\n",
    "df.drop('administrative-dimension-actor',axis=1, inplace=True)\n",
    "# df.drop('external-users',axis=1, inplace=True)\n",
    "df.drop('state-institution',axis=1, inplace=True)\n",
    "df.drop('scientific-community',axis=1, inplace=True)\n",
    "df.drop('professional-association',axis=1, inplace=True)\n",
    "df.drop('economic-actor',axis=1, inplace=True)\n",
    "df.drop('technical-dimension',axis=1, inplace=True)\n",
    "df.drop('political-social',axis=1, inplace=True)"
   ]
  },
  {
   "cell_type": "code",
   "execution_count": 5,
   "metadata": {},
   "outputs": [
    {
     "name": "stdout",
     "output_type": "stream",
     "text": [
      "<class 'pandas.core.frame.DataFrame'>\n",
      "RangeIndex: 120 entries, 0 to 119\n",
      "Data columns (total 12 columns):\n",
      "sex                                      120 non-null int64\n",
      "education                                120 non-null int64\n",
      "field                                    120 non-null int64\n",
      "background                               120 non-null int64\n",
      "history in middle management             120 non-null int64\n",
      "History on the post of top executives    120 non-null int64\n",
      "age                                      120 non-null int64\n",
      "Job                                      120 non-null int64\n",
      "Duration-information-system              120 non-null int64\n",
      "Time-information-system                  120 non-null int64\n",
      "familiarity-information-system           120 non-null int64\n",
      "external-users                           120 non-null int64\n",
      "dtypes: int64(12)\n",
      "memory usage: 11.3 KB\n"
     ]
    }
   ],
   "source": [
    "df.info()"
   ]
  },
  {
   "cell_type": "code",
   "execution_count": 6,
   "metadata": {
    "collapsed": true
   },
   "outputs": [],
   "source": [
    "X = df.drop(\"external-users\", axis = 1)\n",
    "y = df[\"external-users\"]"
   ]
  },
  {
   "cell_type": "code",
   "execution_count": 7,
   "metadata": {},
   "outputs": [
    {
     "data": {
      "text/plain": [
       "(120, 11)"
      ]
     },
     "execution_count": 7,
     "metadata": {},
     "output_type": "execute_result"
    }
   ],
   "source": [
    "X.shape"
   ]
  },
  {
   "cell_type": "code",
   "execution_count": 8,
   "metadata": {},
   "outputs": [
    {
     "data": {
      "text/plain": [
       "(120,)"
      ]
     },
     "execution_count": 8,
     "metadata": {},
     "output_type": "execute_result"
    }
   ],
   "source": [
    "y.shape"
   ]
  },
  {
   "cell_type": "code",
   "execution_count": 9,
   "metadata": {},
   "outputs": [
    {
     "data": {
      "text/html": [
       "<div>\n",
       "<style scoped>\n",
       "    .dataframe tbody tr th:only-of-type {\n",
       "        vertical-align: middle;\n",
       "    }\n",
       "\n",
       "    .dataframe tbody tr th {\n",
       "        vertical-align: top;\n",
       "    }\n",
       "\n",
       "    .dataframe thead th {\n",
       "        text-align: right;\n",
       "    }\n",
       "</style>\n",
       "<table border=\"1\" class=\"dataframe\">\n",
       "  <thead>\n",
       "    <tr style=\"text-align: right;\">\n",
       "      <th></th>\n",
       "      <th>sex</th>\n",
       "      <th>education</th>\n",
       "      <th>field</th>\n",
       "      <th>background</th>\n",
       "      <th>history in middle management</th>\n",
       "      <th>History on the post of top executives</th>\n",
       "      <th>age</th>\n",
       "      <th>Job</th>\n",
       "      <th>Duration-information-system</th>\n",
       "      <th>Time-information-system</th>\n",
       "      <th>familiarity-information-system</th>\n",
       "    </tr>\n",
       "  </thead>\n",
       "  <tbody>\n",
       "    <tr>\n",
       "      <th>0</th>\n",
       "      <td>1</td>\n",
       "      <td>5</td>\n",
       "      <td>1</td>\n",
       "      <td>1</td>\n",
       "      <td>1</td>\n",
       "      <td>1</td>\n",
       "      <td>1</td>\n",
       "      <td>1</td>\n",
       "      <td>1</td>\n",
       "      <td>1</td>\n",
       "      <td>1</td>\n",
       "    </tr>\n",
       "    <tr>\n",
       "      <th>1</th>\n",
       "      <td>1</td>\n",
       "      <td>2</td>\n",
       "      <td>1</td>\n",
       "      <td>1</td>\n",
       "      <td>1</td>\n",
       "      <td>1</td>\n",
       "      <td>1</td>\n",
       "      <td>1</td>\n",
       "      <td>1</td>\n",
       "      <td>1</td>\n",
       "      <td>1</td>\n",
       "    </tr>\n",
       "    <tr>\n",
       "      <th>2</th>\n",
       "      <td>1</td>\n",
       "      <td>2</td>\n",
       "      <td>1</td>\n",
       "      <td>1</td>\n",
       "      <td>1</td>\n",
       "      <td>1</td>\n",
       "      <td>1</td>\n",
       "      <td>1</td>\n",
       "      <td>1</td>\n",
       "      <td>1</td>\n",
       "      <td>1</td>\n",
       "    </tr>\n",
       "    <tr>\n",
       "      <th>3</th>\n",
       "      <td>1</td>\n",
       "      <td>2</td>\n",
       "      <td>1</td>\n",
       "      <td>2</td>\n",
       "      <td>1</td>\n",
       "      <td>1</td>\n",
       "      <td>1</td>\n",
       "      <td>1</td>\n",
       "      <td>1</td>\n",
       "      <td>1</td>\n",
       "      <td>2</td>\n",
       "    </tr>\n",
       "    <tr>\n",
       "      <th>4</th>\n",
       "      <td>1</td>\n",
       "      <td>3</td>\n",
       "      <td>1</td>\n",
       "      <td>2</td>\n",
       "      <td>2</td>\n",
       "      <td>1</td>\n",
       "      <td>1</td>\n",
       "      <td>1</td>\n",
       "      <td>2</td>\n",
       "      <td>1</td>\n",
       "      <td>2</td>\n",
       "    </tr>\n",
       "  </tbody>\n",
       "</table>\n",
       "</div>"
      ],
      "text/plain": [
       "   sex  education  field  background  history in middle management  \\\n",
       "0    1          5      1           1                             1   \n",
       "1    1          2      1           1                             1   \n",
       "2    1          2      1           1                             1   \n",
       "3    1          2      1           2                             1   \n",
       "4    1          3      1           2                             2   \n",
       "\n",
       "   History on the post of top executives  age  Job  \\\n",
       "0                                      1    1    1   \n",
       "1                                      1    1    1   \n",
       "2                                      1    1    1   \n",
       "3                                      1    1    1   \n",
       "4                                      1    1    1   \n",
       "\n",
       "   Duration-information-system  Time-information-system  \\\n",
       "0                            1                        1   \n",
       "1                            1                        1   \n",
       "2                            1                        1   \n",
       "3                            1                        1   \n",
       "4                            2                        1   \n",
       "\n",
       "   familiarity-information-system  \n",
       "0                               1  \n",
       "1                               1  \n",
       "2                               1  \n",
       "3                               2  \n",
       "4                               2  "
      ]
     },
     "execution_count": 9,
     "metadata": {},
     "output_type": "execute_result"
    }
   ],
   "source": [
    "X.head()"
   ]
  },
  {
   "cell_type": "markdown",
   "metadata": {
    "collapsed": true
   },
   "source": [
    "___\n",
    "## Gradient Boosting Classifier"
   ]
  },
  {
   "cell_type": "code",
   "execution_count": 10,
   "metadata": {},
   "outputs": [
    {
     "data": {
      "text/plain": [
       "((90, 11), (90,), (30, 11), (30,))"
      ]
     },
     "execution_count": 10,
     "metadata": {},
     "output_type": "execute_result"
    }
   ],
   "source": [
    "X_train, X_test, y_train, y_test = train_test_split(X, y, test_size = 0.25, random_state=42)\n",
    "X_train.shape, y_train.shape, X_test.shape, y_test.shape"
   ]
  },
  {
   "cell_type": "code",
   "execution_count": 11,
   "metadata": {
    "collapsed": true
   },
   "outputs": [],
   "source": [
    "params = {'n_estimators': 1500, 'max_depth': 5, 'subsample': 0.5,\n",
    "          'learning_rate': 0.01, 'min_samples_leaf': 1, 'random_state': 3}\n",
    "\n",
    "clf = GradientBoostingClassifier(**params)"
   ]
  },
  {
   "cell_type": "code",
   "execution_count": 12,
   "metadata": {
    "collapsed": true
   },
   "outputs": [],
   "source": [
    "clf.fit(X_train, y_train)\n",
    "predictions = clf.predict(X_test)"
   ]
  },
  {
   "cell_type": "code",
   "execution_count": 13,
   "metadata": {},
   "outputs": [
    {
     "data": {
      "image/png": "[encoded data removed]",
      "text/plain": [
       "<matplotlib.figure.Figure at 0x1e397125208>"
      ]
     },
     "metadata": {},
     "output_type": "display_data"
    }
   ],
   "source": [
    "# display the relative importance of each attribute\n",
    "plt.figure(figsize=(18,8))\n",
    "relval = clf.feature_importances_\n",
    "\n",
    "# horizontal bar plot of feature importance\n",
    "pos = np.arange(11) + 0.5\n",
    "plt.barh(pos, relval, align='center')\n",
    "plt.title(\"Feature Importance\")\n",
    "plt.xlabel(\"\")\n",
    "plt.ylabel(\"Features\")\n",
    "plt.yticks(pos, (\"sex\", \"education\", \"field\", \"background\", \"history in middle management\", \n",
    "                 \"History on the post of top executives\", \"age\", \"Job\", \"Duration-information-system\", \n",
    "                 \"Time-information-system\", \"familiarity-information-system\"))\n",
    "plt.grid(True)"
   ]
  },
  {
   "cell_type": "code",
   "execution_count": 14,
   "metadata": {
    "collapsed": true
   },
   "outputs": [],
   "source": [
    "correct = 0\n",
    "incorrect = 0\n",
    "for prediction, truth in zip(predictions, y_test):\n",
    "    if prediction == truth:\n",
    "        correct += 1\n",
    "    elif prediction != truth:\n",
    "        incorrect += 1\n",
    "    else:\n",
    "        print (\"Evaluating performance for processed predictions:\")\n",
    "        break"
   ]
  },
  {
   "cell_type": "code",
   "execution_count": 15,
   "metadata": {},
   "outputs": [
    {
     "name": "stdout",
     "output_type": "stream",
     "text": [
      "correct: 26\n",
      "incorrect: 4\n",
      "accuracy score: 0.8666666666666667\n"
     ]
    }
   ],
   "source": [
    "print(\"correct:\",correct)\n",
    "print(\"incorrect:\",incorrect)\n",
    "print(\"accuracy score:\", clf.score(X_test, y_test))"
   ]
  },
  {
   "cell_type": "code",
   "execution_count": 16,
   "metadata": {},
   "outputs": [
    {
     "name": "stdout",
     "output_type": "stream",
     "text": [
      "[[ 9  0  0  0  0]\n",
      " [ 1 10  0  0  0]\n",
      " [ 0  0  4  1  0]\n",
      " [ 0  0  0  2  1]\n",
      " [ 0  0  0  1  1]]\n",
      "0.8666666666666667\n"
     ]
    }
   ],
   "source": [
    "y_pred = clf.predict(X_test)\n",
    "\n",
    "print(confusion_matrix(y_test, y_pred))\n",
    "print(accuracy_score(y_test, y_pred))"
   ]
  },
  {
   "cell_type": "code",
   "execution_count": 17,
   "metadata": {},
   "outputs": [
    {
     "name": "stdout",
     "output_type": "stream",
     "text": [
      "              precision    recall  f1-score   support\n",
      "\n",
      "           1       0.90      1.00      0.95         9\n",
      "           2       1.00      0.91      0.95        11\n",
      "           3       1.00      0.80      0.89         5\n",
      "           4       0.50      0.67      0.57         3\n",
      "           5       0.50      0.50      0.50         2\n",
      "\n",
      "   micro avg       0.87      0.87      0.87        30\n",
      "   macro avg       0.78      0.78      0.77        30\n",
      "weighted avg       0.89      0.87      0.87        30\n",
      "\n"
     ]
    }
   ],
   "source": [
    "print(classification_report(y_test,y_pred))"
   ]
  },
  {
   "cell_type": "code",
   "execution_count": null,
   "metadata": {
    "collapsed": true
   },
   "outputs": [],
   "source": []
  }
 ],
 "metadata": {
  "kernelspec": {
   "display_name": "Python 3",
   "language": "python",
   "name": "python3"
  },
  "language_info": {
   "codemirror_mode": {
    "name": "ipython",
    "version": 3
   },
   "file_extension": ".py",
   "mimetype": "text/x-python",
   "name": "python",
   "nbconvert_exporter": "python",
   "pygments_lexer": "ipython3",
   "version": "3.6.3"
  }
 },
 "nbformat": 4,
 "nbformat_minor": 2
}
